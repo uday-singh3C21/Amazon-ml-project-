{
 "cells": [
  {
   "cell_type": "code",
   "execution_count": 12,
   "id": "ff388a49-f8fb-4d6f-99db-11526c548a48",
   "metadata": {},
   "outputs": [
    {
     "name": "stderr",
     "output_type": "stream",
     "text": [
      "...\n",
      "----------------------------------------------------------------------\n",
      "Ran 3 tests in 0.002s\n",
      "\n",
      "OK\n"
     ]
    }
   ],
   "source": [
    "import unittest\n",
    "\n",
    "def calculate_total(cart):\n",
    "    \"\"\"\n",
    "    This function calculates the total price of items in a shopping cart.\n",
    "    \n",
    "    :param cart: List of dictionaries, each representing an item with keys: 'name', 'price', and 'quantity'\n",
    "    :return: Total price of all items in the cart\n",
    "    \"\"\"\n",
    "    total = 0\n",
    "    for item in cart:\n",
    "        total += item['price'] * item['quantity']\n",
    "    return total\n",
    "\n",
    "# Test cases\n",
    "class TestCalculateTotal(unittest.TestCase):\n",
    "\n",
    "    def test_multiple_items_with_different_quantities(self):\n",
    "        \"\"\"\n",
    "        Test the function when the cart contains multiple items with different quantities.\n",
    "        \"\"\"\n",
    "        cart = [\n",
    "            {'name': 'apple', 'price': 0.5, 'quantity': 3},\n",
    "            {'name': 'banana', 'price': 0.3, 'quantity': 2},\n",
    "            {'name': 'orange', 'price': 0.7, 'quantity': 5}\n",
    "        ]\n",
    "        expected_total = 0.5 * 3 + 0.3 * 2 + 0.7 * 5  # 1.5 + 0.6 + 3.5 = 5.6\n",
    "        self.assertAlmostEqual(calculate_total(cart), expected_total, places=2)\n",
    "\n",
    "    def test_item_with_zero_price(self):\n",
    "        \"\"\"\n",
    "        Test the function when the cart contains an item with zero price.\n",
    "        \"\"\"\n",
    "        cart = [\n",
    "            {'name': 'water', 'price': 0, 'quantity': 10},\n",
    "            {'name': 'bread', 'price': 1, 'quantity': 1}\n",
    "        ]\n",
    "        expected_total = 1 * 1  # The item with price 0 does not affect the total\n",
    "        self.assertAlmostEqual(calculate_total(cart), expected_total, places=2)\n",
    "\n",
    "    def test_empty_cart(self):\n",
    "        \"\"\"\n",
    "        Test the function when the cart is empty.\n",
    "        \"\"\"\n",
    "        cart = []\n",
    "        expected_total = 0  # An empty cart should return a total of 0\n",
    "        self.assertAlmostEqual(calculate_total(cart), expected_total, places=2)\n",
    "\n",
    "# Manually running the tests in Jupyter\n",
    "if __name__ == '__main__':\n",
    "    # Using TextTestRunner to run tests in Jupyter\n",
    "    unittest.TextTestRunner().run(unittest.defaultTestLoader.loadTestsFromTestCase(TestCalculateTotal))\n"
   ]
  },
  {
   "cell_type": "code",
   "execution_count": null,
   "id": "08e4930c-6f15-4cd7-ad55-bd6c1afa2d38",
   "metadata": {},
   "outputs": [],
   "source": []
  }
 ],
 "metadata": {
  "kernelspec": {
   "display_name": "Python 3 (ipykernel)",
   "language": "python",
   "name": "python3"
  },
  "language_info": {
   "codemirror_mode": {
    "name": "ipython",
    "version": 3
   },
   "file_extension": ".py",
   "mimetype": "text/x-python",
   "name": "python",
   "nbconvert_exporter": "python",
   "pygments_lexer": "ipython3",
   "version": "3.12.4"
  }
 },
 "nbformat": 4,
 "nbformat_minor": 5
}
